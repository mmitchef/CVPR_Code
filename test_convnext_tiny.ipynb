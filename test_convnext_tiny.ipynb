{
 "cells": [
  {
   "cell_type": "code",
   "execution_count": 4,
   "metadata": {},
   "outputs": [
    {
     "ename": "ModuleNotFoundError",
     "evalue": "No module named 'modules'",
     "output_type": "error",
     "traceback": [
      "\u001b[0;31m---------------------------------------------------------------------------\u001b[0m",
      "\u001b[0;31mModuleNotFoundError\u001b[0m                       Traceback (most recent call last)",
      "\u001b[1;32m/Users/mahsa/Desktop/test_convnext_tiny.ipynb Cell 1\u001b[0m line \u001b[0;36m1\n\u001b[0;32m----> <a href='vscode-notebook-cell:/Users/mahsa/Desktop/test_convnext_tiny.ipynb#W0sZmlsZQ%3D%3D?line=0'>1</a>\u001b[0m \u001b[39mfrom\u001b[39;00m \u001b[39mmodules\u001b[39;00m\u001b[39m.\u001b[39;00m\u001b[39mirisRecognition\u001b[39;00m \u001b[39mimport\u001b[39;00m irisRecognition\n\u001b[1;32m      <a href='vscode-notebook-cell:/Users/mahsa/Desktop/test_convnext_tiny.ipynb#W0sZmlsZQ%3D%3D?line=1'>2</a>\u001b[0m \u001b[39mfrom\u001b[39;00m \u001b[39mmodules\u001b[39;00m\u001b[39m.\u001b[39;00m\u001b[39mutils\u001b[39;00m \u001b[39mimport\u001b[39;00m get_cfg\n\u001b[1;32m      <a href='vscode-notebook-cell:/Users/mahsa/Desktop/test_convnext_tiny.ipynb#W0sZmlsZQ%3D%3D?line=2'>3</a>\u001b[0m \u001b[39mimport\u001b[39;00m \u001b[39margparse\u001b[39;00m\n",
      "\u001b[0;31mModuleNotFoundError\u001b[0m: No module named 'modules'"
     ]
    }
   ],
   "source": [
    "from modules.irisRecognition import irisRecognition\n",
    "from modules.utils import get_cfg\n",
    "import argparse\n",
    "import glob\n",
    "from PIL import Image\n",
    "import os\n",
    "import cv2\n",
    "import numpy as np\n",
    "\n",
    "def main(cfg):\n",
    "\n",
    "    irisRec = irisRecognition(cfg, use_hough=False)\n",
    "\n",
    "    # Get the list of images to process\n",
    "    filename_list = []\n",
    "    image_list = []\n",
    "    extensions = [\"bmp\", \"png\", \"gif\", \"jpg\", \"jpeg\", \"tiff\", \"tif\"]\n",
    "    for ext in extensions:\n",
    "        for filename in glob.glob(\"/Users/mahsa/Desktop/Images_gray/*.\" + ext):\n",
    "            im = Image.fromarray(np.array(Image.open(filename).convert(\"RGB\"))[:, :, 0], \"L\")\n",
    "            image_list.append(im)\n",
    "            filename_list.append(os.path.basename(filename))\n",
    "\n",
    "    # Segmentation, normalization and encoding\n",
    "    polar_mask_list = []\n",
    "    code_list = []\n",
    "    for im,fn in zip(image_list,filename_list):\n",
    "        \n",
    "        print(fn)\n",
    "\n",
    "        # convert to ISO-compliant aspect ratio (4:3) and resize to ISO-compliant resolution: 640x480\n",
    "        im = irisRec.fix_image(im)\n",
    "\n",
    "        # segmentation mask and circular approximation:\n",
    "        mask, pupil_xyr, iris_xyr = irisRec.segment_and_circApprox(im)\n",
    "        im_mask = Image.fromarray(np.where(mask > 0.5, 255, 0).astype(np.uint8), 'L')\n",
    "\n",
    "        # cartesian to polar transformation:\n",
    "        im_polar, mask_polar = irisRec.cartToPol_torch(im, mask, pupil_xyr, iris_xyr)\n",
    "        polar_mask_list.append(mask_polar)\n",
    "\n",
    "        # human-driven BSIF encoding:\n",
    "        code = irisRec.extractCode(im_polar)\n",
    "        #print(code.shape)\n",
    "        code_list.append(code)\n",
    "\n",
    "        # DEBUG: save selected processing results\n",
    "        im_mask.save(\"/Users/mahsa/Desktop/Images_gray/dataProcessed/\" + os.path.splitext(fn)[0] + \"_seg_MCCNet_mask.png\")\n",
    "        imVis = irisRec.segmentVis(im,mask,pupil_xyr,iris_xyr)\n",
    "        path = \"/Users/mahsa/Desktop/Images_gray/dataProcessed/\" + os.path.splitext(fn)[0]\n",
    "        cv2.imwrite(path + \"_seg_MCCNet_vis.png\",imVis)\n",
    "        cv2.imwrite(path + \"_im_polar_MCCNet.png\",im_polar)\n",
    "        cv2.imwrite(path + \"_mask_polar_MCCNet.png\",mask_polar)\n",
    "        np.savez_compressed(\"./templates/\" + os.path.splitext(fn)[0] + \"_tmpl.npz\",code)\n",
    "        for i in range(irisRec.num_filters):\n",
    "            cv2.imwrite((\"%s_code_filter%d.png\" % (path,i)),255*code[:,:,i])\n",
    "\n",
    "    # Matching (all-vs-all, as an example)\n",
    "    for code1,mask1,fn1,i in zip(code_list,polar_mask_list,filename_list,range(len(code_list))):\n",
    "        for code2,mask2,fn2,j in zip(code_list,polar_mask_list,filename_list,range(len(code_list))):\n",
    "            if i < j:\n",
    "                score, shift = irisRec.matchCodes(code1, code2, mask1, mask2)\n",
    "                print(\"{} <-> {} : {:.3f} (mutual rot: {:.2f} deg)\".format(fn1,fn2,score,360*shift/irisRec.polar_width))\n",
    "     \n",
    "    return None\n",
    "\n",
    "if __name__ == \"__main__\":\n",
    "    parser = argparse.ArgumentParser()\n",
    "    parser.add_argument(\"--cfg_path\",\n",
    "                        type=str,\n",
    "                        default=\"cfg.yaml\",\n",
    "                        help=\"path of the configuration file\")\n",
    "    args = parser.parse_args()\n",
    "    main(get_cfg(args.cfg_path))"
   ]
  },
  {
   "cell_type": "code",
   "execution_count": 3,
   "metadata": {},
   "outputs": [
    {
     "data": {
      "text/plain": [
       "'1.13.1'"
      ]
     },
     "execution_count": 3,
     "metadata": {},
     "output_type": "execute_result"
    }
   ],
   "source": [
    "torch.__version__"
   ]
  },
  {
   "cell_type": "code",
   "execution_count": null,
   "metadata": {},
   "outputs": [],
   "source": []
  }
 ],
 "metadata": {
  "kernelspec": {
   "display_name": "Python 3",
   "language": "python",
   "name": "python3"
  },
  "language_info": {
   "codemirror_mode": {
    "name": "ipython",
    "version": 3
   },
   "file_extension": ".py",
   "mimetype": "text/x-python",
   "name": "python",
   "nbconvert_exporter": "python",
   "pygments_lexer": "ipython3",
   "version": "3.10.6"
  }
 },
 "nbformat": 4,
 "nbformat_minor": 2
}
